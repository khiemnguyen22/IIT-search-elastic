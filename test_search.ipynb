{
 "cells": [
  {
   "cell_type": "code",
   "execution_count": 1,
   "metadata": {},
   "outputs": [
    {
     "data": {
      "text/plain": [
       "True"
      ]
     },
     "execution_count": 1,
     "metadata": {},
     "output_type": "execute_result"
    }
   ],
   "source": [
    "from elasticsearch import Elasticsearch\n",
    "import os\n",
    "from dotenv import load_dotenv\n",
    "import json \n",
    "import warnings\n",
    "\n",
    "warnings.filterwarnings(\"ignore\")\n",
    "load_dotenv()"
   ]
  },
  {
   "cell_type": "markdown",
   "metadata": {},
   "source": [
    "### Load ENV variables"
   ]
  },
  {
   "cell_type": "code",
   "execution_count": 2,
   "metadata": {},
   "outputs": [],
   "source": [
    "USERNAME = os.getenv('USERNAME')\n",
    "PASSWORD = os.getenv('PASSWORD')"
   ]
  },
  {
   "cell_type": "markdown",
   "metadata": {},
   "source": [
    "### Initialize ElasticSearch"
   ]
  },
  {
   "cell_type": "code",
   "execution_count": 3,
   "metadata": {},
   "outputs": [
    {
     "name": "stdout",
     "output_type": "stream",
     "text": [
      "running:  True\n"
     ]
    }
   ],
   "source": [
    "es = Elasticsearch([{'host':'localhost', 'port':9200, 'scheme': 'https'}],\n",
    "                    verify_certs = False,\n",
    "                    basic_auth = (USERNAME, PASSWORD))\n",
    "\n",
    "# Check status\n",
    "print('running: ', es.ping())"
   ]
  },
  {
   "cell_type": "markdown",
   "metadata": {},
   "source": [
    "### Create Index"
   ]
  },
  {
   "cell_type": "markdown",
   "metadata": {},
   "source": [
    "Create Index:\n",
    "```\n",
    "PUT /cs_courses\n",
    "```\n",
    "\n",
    "Check Index:\n",
    "```\n",
    "GET _cat/indices\n",
    "```\n"
   ]
  },
  {
   "cell_type": "markdown",
   "metadata": {},
   "source": [
    "#### Example"
   ]
  },
  {
   "cell_type": "code",
   "execution_count": 14,
   "metadata": {},
   "outputs": [
    {
     "name": "stdout",
     "output_type": "stream",
     "text": [
      "updated\n",
      "{'author': 'kimchy', 'text': 'Elasticsearch: cool. bonsai cool.', 'timestamp': '2023-11-18T12:01:33.751967'}\n",
      "Got 1 Hits:\n",
      "2023-11-18T12:01:33.751967 kimchy: Elasticsearch: cool. bonsai cool.\n"
     ]
    }
   ],
   "source": [
    "from datetime import datetime\n",
    "\n",
    "doc = {\n",
    "    'author': 'kimchy',\n",
    "    'text': 'Elasticsearch: cool. bonsai cool.',\n",
    "    'timestamp': datetime.now(),\n",
    "}\n",
    "resp = es.index(index=\"my-index\", id=1, document=doc)\n",
    "print(resp['result'])\n",
    "\n",
    "resp = es.get(index=\"my-index\", id=1)\n",
    "print(resp['_source'])\n",
    "\n",
    "es.indices.refresh(index=\"my-index\")\n",
    "\n",
    "resp = es.search(index=\"my-index\", query={\"match_all\": {}})\n",
    "print(\"Got %d Hits:\" % resp['hits']['total']['value'])\n",
    "for hit in resp['hits']['hits']:\n",
    "    print(\"%(timestamp)s %(author)s: %(text)s\" % hit[\"_source\"])"
   ]
  },
  {
   "cell_type": "markdown",
   "metadata": {},
   "source": [
    "### Load CS Courses Data"
   ]
  },
  {
   "cell_type": "code",
   "execution_count": 16,
   "metadata": {},
   "outputs": [
    {
     "data": {
      "text/plain": [
       "{'code': 'CS100',\n",
       " 'title': 'Introduction to the Profession',\n",
       " 'link': 'http://bulletin.iit.edu/search/?P=CS%20100',\n",
       " 'description': 'An introduction to science and engineering as a profession. Examines the problem-solving process used in engineering and science. Emphasizes the interdisciplinary and international nature of problem-solving and the need to evaluate solutions in terms of a variety of constraints: computational, financial, and social.',\n",
       " 'credits': ' 2',\n",
       " 'prerequisites:': []}"
      ]
     },
     "execution_count": 16,
     "metadata": {},
     "output_type": "execute_result"
    }
   ],
   "source": [
    "with open('crawler/cs_courses.json') as f:\n",
    "    cs_courses = json.load(f)\n",
    "f.close()\n",
    "# Load one course\n",
    "cs_courses[0]"
   ]
  },
  {
   "cell_type": "markdown",
   "metadata": {},
   "source": [
    "### Index CS Courses Data"
   ]
  },
  {
   "cell_type": "code",
   "execution_count": 17,
   "metadata": {},
   "outputs": [
    {
     "name": "stdout",
     "output_type": "stream",
     "text": [
      "updated  course:  CS100\n",
      "updated  course:  CS104\n",
      "updated  course:  CS105\n",
      "updated  course:  CS110\n",
      "updated  course:  CS115\n",
      "updated  course:  CS116\n",
      "updated  course:  CS201\n",
      "updated  course:  CS330\n",
      "updated  course:  CS331\n",
      "updated  course:  CS340\n",
      "updated  course:  CS350\n",
      "updated  course:  CS351\n",
      "updated  course:  CS401\n",
      "updated  course:  CS402\n",
      "updated  course:  CS403\n",
      "updated  course:  CS406\n",
      "updated  course:  CS411\n",
      "updated  course:  CS422\n",
      "updated  course:  CS425\n",
      "updated  course:  CS429\n",
      "updated  course:  CS430\n",
      "updated  course:  CS440\n",
      "updated  course:  CS442\n",
      "updated  course:  CS443\n",
      "updated  course:  CS445\n",
      "updated  course:  CS447\n",
      "updated  course:  CS450\n",
      "updated  course:  CS451\n",
      "updated  course:  CS455\n",
      "updated  course:  CS456\n",
      "updated  course:  CS458\n",
      "updated  course:  CS470\n",
      "updated  course:  CS480\n",
      "updated  course:  CS481\n",
      "updated  course:  CS482\n",
      "updated  course:  CS484\n",
      "updated  course:  CS485\n",
      "updated  course:  CS487\n",
      "updated  course:  CS492\n",
      "updated  course:  CS511\n",
      "updated  course:  CS512\n",
      "updated  course:  CS513\n",
      "updated  course:  CS520\n",
      "updated  course:  CS521\n",
      "updated  course:  CS522\n",
      "updated  course:  CS525\n",
      "updated  course:  CS528\n",
      "updated  course:  CS529\n",
      "updated  course:  CS530\n",
      "updated  course:  CS531\n",
      "updated  course:  CS532\n",
      "updated  course:  CS533\n",
      "updated  course:  CS535\n",
      "updated  course:  CS536\n",
      "updated  course:  CS537\n",
      "updated  course:  CS538\n",
      "updated  course:  CS539\n",
      "updated  course:  CS540\n",
      "updated  course:  CS541\n",
      "updated  course:  CS542\n",
      "updated  course:  CS544\n",
      "updated  course:  CS545\n",
      "updated  course:  CS546\n",
      "updated  course:  CS547\n",
      "updated  course:  CS548\n",
      "updated  course:  CS549\n",
      "updated  course:  CS550\n",
      "updated  course:  CS551\n",
      "updated  course:  CS552\n",
      "updated  course:  CS553\n",
      "updated  course:  CS554\n",
      "updated  course:  CS555\n",
      "updated  course:  CS556\n",
      "updated  course:  CS557\n",
      "updated  course:  CS558\n",
      "updated  course:  CS559\n",
      "updated  course:  CS560\n",
      "updated  course:  CS561\n",
      "updated  course:  CS562\n",
      "updated  course:  CS565\n",
      "updated  course:  CS566\n",
      "updated  course:  CS570\n",
      "updated  course:  CS572\n",
      "updated  course:  CS577\n",
      "updated  course:  CS578\n",
      "updated  course:  CS579\n",
      "updated  course:  CS580\n",
      "updated  course:  CS581\n",
      "updated  course:  CS582\n",
      "updated  course:  CS583\n",
      "updated  course:  CS584\n",
      "updated  course:  CS585\n",
      "updated  course:  CS586\n",
      "updated  course:  CS587\n",
      "updated  course:  CS588\n",
      "updated  course:  CS589\n",
      "updated  course:  CS590\n",
      "updated  course:  CS612\n",
      "updated  course:  CS630\n",
      "updated  course:  CS642\n",
      "updated  course:  CS681\n",
      "updated  course:  CS689\n",
      "updated  course:  CS695\n"
     ]
    },
    {
     "data": {
      "text/plain": [
       "ObjectApiResponse({'_shards': {'total': 2, 'successful': 1, 'failed': 0}})"
      ]
     },
     "execution_count": 17,
     "metadata": {},
     "output_type": "execute_result"
    }
   ],
   "source": [
    "for id, course in enumerate(cs_courses):\n",
    "    resp = es.index(index=\"cs_courses\", id = id, document = course)\n",
    "    print(resp['result'], ' course: ', course['code'])\n",
    "\n",
    "es.indices.refresh(index=\"cs_courses\")"
   ]
  },
  {
   "cell_type": "markdown",
   "metadata": {},
   "source": [
    "### Example Query"
   ]
  },
  {
   "cell_type": "markdown",
   "metadata": {},
   "source": [
    "Match all documents (top 5)"
   ]
  },
  {
   "cell_type": "code",
   "execution_count": 18,
   "metadata": {},
   "outputs": [
    {
     "name": "stdout",
     "output_type": "stream",
     "text": [
      "Got 103 Hits:\n",
      "CS100 Introduction to the Profession: An introduction to science and engineering as a profession. Examines the problem-solving process used in engineering and science. Emphasizes the interdisciplinary and international nature of problem-solving and the need to evaluate solutions in terms of a variety of constraints: computational, financial, and social.\n",
      "CS104 Introduction to Computer Programming for Engineers: Introduces the use of high-level programming language as a problem-solving tool in engineering including basic data structures and algorithms, structured programming techniques, and software documentation.  Designed for students who have had little or no prior experience with computer programming.  Students should only take one of these courses (\n",
      "CS105 Introduction to Computer Programming: Introduces the use of high-level programming language as a problem-solving tool, including basic data structures and algorithms, structured programming techniques, and software documentation. Designed for students who have had little or no prior experience with computer programming.  Students should only take one of these courses (\n",
      "CS110 Computing Principles: An introduction to the following \"big ideas\" of computer science:  (1) computing is a creative activity; (2) abstraction reduces information and detail to facilitate focus on relevant concepts; (3) data and information facilitate the creation of knowledge; (4) algorithms are used to develop and express solutions to computational problems; (5) programming enables problem solving, human expression, and creation of knowledge; (6) the internet pervades modern computing; and  (7) computing has global impacts.\n",
      "CS115 Object-Oriented Programming I: Introduces the use of a high-level object-oriented programming language as a problem-solving tool, including basic data structures and algorithms, object-oriented programming techniques, and software documentation. Designed for students who have had little or no prior experience with computer programming. For students in CS and CS-related degree programs.  Students should only take one of these courses (\n"
     ]
    }
   ],
   "source": [
    "resp = es.search(index=\"cs_courses\", query={\"match_all\": {}})\n",
    "print(\"Got %d Hits:\" % resp['hits']['total']['value'])\n",
    "\n",
    "# Return first 5 documents\n",
    "for hit in resp['hits']['hits'][:5]:\n",
    "    print(\"%(code)s %(title)s: %(description)s\" % hit[\"_source\"])"
   ]
  },
  {
   "cell_type": "markdown",
   "metadata": {},
   "source": [
    "Match Documents on Description (top 5)"
   ]
  },
  {
   "cell_type": "code",
   "execution_count": 23,
   "metadata": {},
   "outputs": [],
   "source": [
    "description = 'Operating Systems'\n",
    "query_body = {\n",
    "    'match': {\n",
    "        'description': description\n",
    "    }\n",
    "}"
   ]
  },
  {
   "cell_type": "code",
   "execution_count": 24,
   "metadata": {},
   "outputs": [
    {
     "name": "stdout",
     "output_type": "stream",
     "text": [
      "Got 32 Hits:\n",
      "CS550 Advanced Operating Systems: Advanced operating system design concepts such as interprocess communication, distributed processing, replication and consistency, fault tolerance, synchronization, file systems.  Study of systems highlighting these concepts.\n",
      "CS555 Analytic Models and Simulation of Computer Systems: Analytic and simulation techniques for the performance analysis of computer architecture, operating systems and communication networks. Rigorous development of queuing models. Study of simulation languages and models.\n",
      "CS458 Introduction to Information Security: An introduction to the fundamentals of computer and information security. This course focuses on algorithms and techniques used to defend against malicious software. Topics include an introduction to encryption systems, operating system security, database security, network security, system threats, and risk avoidance procedures.\n",
      "CS450 Operating Systems: Introduction to operating system concepts-including system organization for uniprocessors and multiprocessors, scheduling algorithms, process management, deadlocks, paging and segmentation, files and protection, and process coordination and communication.\n",
      "CS551 Operating System Design and Implementation: This course covers in detail the design and implementation of processes, interprocess communication, semaphores, monitors, message passing, scheduling algorithm, input/output, device drivers, memory management, file system design, security and protection mechanisms.  The hardware-software interface and the user process-system call-kernel interface are examined in detail.  Students modify and extend a multiuser operating system.\n"
     ]
    }
   ],
   "source": [
    "resp = es.search(index=\"cs_courses\", query = query_body)\n",
    "print(\"Got %d Hits:\" % resp['hits']['total']['value'])\n",
    "\n",
    "# Return first 5 documents\n",
    "for hit in resp['hits']['hits'][:5]:\n",
    "    print(\"%(code)s %(title)s: %(description)s\" % hit[\"_source\"])"
   ]
  },
  {
   "cell_type": "code",
   "execution_count": null,
   "metadata": {},
   "outputs": [],
   "source": []
  }
 ],
 "metadata": {
  "kernelspec": {
   "display_name": "elasticsearch",
   "language": "python",
   "name": "python3"
  },
  "language_info": {
   "codemirror_mode": {
    "name": "ipython",
    "version": 3
   },
   "file_extension": ".py",
   "mimetype": "text/x-python",
   "name": "python",
   "nbconvert_exporter": "python",
   "pygments_lexer": "ipython3",
   "version": "3.10.0"
  }
 },
 "nbformat": 4,
 "nbformat_minor": 2
}
