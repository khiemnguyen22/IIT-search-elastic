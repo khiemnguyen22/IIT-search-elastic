{
 "cells": [
  {
   "cell_type": "code",
   "execution_count": 1,
   "metadata": {},
   "outputs": [
    {
     "data": {
      "text/plain": [
       "True"
      ]
     },
     "execution_count": 1,
     "metadata": {},
     "output_type": "execute_result"
    }
   ],
   "source": [
    "from elasticsearch import Elasticsearch\n",
    "import os\n",
    "from dotenv import load_dotenv\n",
    "import json \n",
    "import warnings\n",
    "\n",
    "warnings.filterwarnings(\"ignore\")\n",
    "load_dotenv()"
   ]
  },
  {
   "cell_type": "markdown",
   "metadata": {},
   "source": [
    "### Load ENV variables"
   ]
  },
  {
   "cell_type": "code",
   "execution_count": 2,
   "metadata": {},
   "outputs": [],
   "source": [
    "USERNAME = os.getenv('USERNAME')\n",
    "PASSWORD = os.getenv('PASSWORD')"
   ]
  },
  {
   "cell_type": "markdown",
   "metadata": {},
   "source": [
    "### Initialize ElasticSearch"
   ]
  },
  {
   "cell_type": "code",
   "execution_count": 3,
   "metadata": {},
   "outputs": [
    {
     "name": "stdout",
     "output_type": "stream",
     "text": [
      "from _transport.py, request_body None\n",
      "running:  True\n"
     ]
    }
   ],
   "source": [
    "es = Elasticsearch([{'host':'localhost', 'port':9200, 'scheme': 'https'}],\n",
    "                    verify_certs = False,\n",
    "                    basic_auth = (USERNAME, PASSWORD))\n",
    "\n",
    "# Check status\n",
    "print('running: ', es.ping())"
   ]
  },
  {
   "cell_type": "markdown",
   "metadata": {},
   "source": [
    "### Issue"
   ]
  },
  {
   "cell_type": "code",
   "execution_count": 4,
   "metadata": {},
   "outputs": [],
   "source": [
    "rep_doc = {\n",
    "  \"a\": {\n",
    "    \"b\": []\n",
    "  }\n",
    "}"
   ]
  },
  {
   "cell_type": "code",
   "execution_count": 5,
   "metadata": {},
   "outputs": [
    {
     "name": "stdout",
     "output_type": "stream",
     "text": [
      "from _transport.py, request_body b'{\"a\":{\"b\":[]}}'\n",
      "updated\n"
     ]
    }
   ],
   "source": [
    "resp = es.index(index=\"issue_rep_index\", id=1, document=rep_doc)\n",
    "print(resp['result'])"
   ]
  },
  {
   "cell_type": "code",
   "execution_count": 6,
   "metadata": {},
   "outputs": [
    {
     "name": "stdout",
     "output_type": "stream",
     "text": [
      "from _transport.py, request_body None\n",
      "{'a': {'b': []}}\n"
     ]
    }
   ],
   "source": [
    "resp = es.get(index=\"issue_rep_index\", id=1)\n",
    "print(resp['_source'])"
   ]
  },
  {
   "cell_type": "code",
   "execution_count": 7,
   "metadata": {},
   "outputs": [
    {
     "name": "stdout",
     "output_type": "stream",
     "text": [
      "fields is none?  False\n",
      "fields values:  ['a.b']\n",
      "from _transport.py, request_body b'{\"fields\":[\"a.b\"]}'\n",
      "result type:  <class 'elastic_transport.ObjectApiResponse'>\n"
     ]
    },
    {
     "data": {
      "text/plain": [
       "[{'_index': 'issue_rep_index',\n",
       "  '_id': '1',\n",
       "  '_score': 1.0,\n",
       "  '_source': {'a': {'b': []}},\n",
       "  'fields': {'a.b': None}}]"
      ]
     },
     "execution_count": 7,
     "metadata": {},
     "output_type": "execute_result"
    }
   ],
   "source": [
    "resp1 = es.search(index=\"issue_rep_index\", fields=[\"a.b\"])\n",
    "resp1.body[\"hits\"][\"hits\"]"
   ]
  },
  {
   "cell_type": "markdown",
   "metadata": {},
   "source": [
    "#### Second case"
   ]
  },
  {
   "cell_type": "code",
   "execution_count": 8,
   "metadata": {},
   "outputs": [],
   "source": [
    "rep_doc = {\n",
    "  \"a\": {\n",
    "    \"b\": [2, 3]\n",
    "  }\n",
    "}"
   ]
  },
  {
   "cell_type": "code",
   "execution_count": 9,
   "metadata": {},
   "outputs": [
    {
     "name": "stdout",
     "output_type": "stream",
     "text": [
      "from _transport.py, request_body b'{\"a\":{\"b\":[2,3]}}'\n",
      "updated\n"
     ]
    }
   ],
   "source": [
    "resp = es.index(index=\"issue_rep_index\", id=1, document=rep_doc)\n",
    "print(resp['result'])"
   ]
  },
  {
   "cell_type": "code",
   "execution_count": 10,
   "metadata": {},
   "outputs": [
    {
     "name": "stdout",
     "output_type": "stream",
     "text": [
      "fields is none?  False\n",
      "fields values:  ['a.b']\n",
      "from _transport.py, request_body b'{\"fields\":[\"a.b\"]}'\n",
      "result type:  <class 'elastic_transport.ObjectApiResponse'>\n"
     ]
    },
    {
     "data": {
      "text/plain": [
       "[{'_index': 'issue_rep_index',\n",
       "  '_id': '1',\n",
       "  '_score': 1.0,\n",
       "  '_source': {'a': {'b': [2, 3]}},\n",
       "  'fields': {'a.b': [2, 3]}}]"
      ]
     },
     "execution_count": 10,
     "metadata": {},
     "output_type": "execute_result"
    }
   ],
   "source": [
    "resp1 = es.search(index=\"issue_rep_index\", fields=[\"a.b\"])\n",
    "resp1.body[\"hits\"][\"hits\"]"
   ]
  },
  {
   "cell_type": "markdown",
   "metadata": {},
   "source": []
  }
 ],
 "metadata": {
  "kernelspec": {
   "display_name": "elastic-custom",
   "language": "python",
   "name": "python3"
  },
  "language_info": {
   "codemirror_mode": {
    "name": "ipython",
    "version": 3
   },
   "file_extension": ".py",
   "mimetype": "text/x-python",
   "name": "python",
   "nbconvert_exporter": "python",
   "pygments_lexer": "ipython3",
   "version": "3.10.0"
  }
 },
 "nbformat": 4,
 "nbformat_minor": 2
}
